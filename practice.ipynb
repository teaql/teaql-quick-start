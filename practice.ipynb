{
 "cells": [
  {
   "cell_type": "code",
   "execution_count": 11,
   "id": "e222d100-1279-436f-bc05-63179ad47ab4",
   "metadata": {
    "tags": []
   },
   "outputs": [
    {
     "name": "stdout",
     "output_type": "stream",
     "text": [
      "he2222llo\n"
     ]
    }
   ],
   "source": [
    "print(\"he2222llo\")"
   ]
  },
  {
   "cell_type": "code",
   "execution_count": 12,
   "id": "23b0f0c7-b1ed-46b3-9021-414dbb8d080a",
   "metadata": {
    "slideshow": {
     "slide_type": "fragment"
    },
    "tags": [
     "2"
    ]
   },
   "outputs": [
    {
     "name": "stdout",
     "output_type": "stream",
     "text": [
      "45\n"
     ]
    }
   ],
   "source": [
    "def sum(a,b):\n",
    "    return a+b\n",
    "print(sum(12,33))"
   ]
  },
  {
   "cell_type": "code",
   "execution_count": 13,
   "id": "1025dd11-2644-4ba6-abe3-97dc19a291ac",
   "metadata": {},
   "outputs": [
    {
     "name": "stdout",
     "output_type": "stream",
     "text": [
      "hello\n"
     ]
    }
   ],
   "source": [
    "## use it as good way\n",
    "print(\"hello\")"
   ]
  },
  {
   "cell_type": "code",
   "execution_count": null,
   "id": "f2288a51-63cf-4ba6-9cfa-5627f92846a5",
   "metadata": {},
   "outputs": [],
   "source": [
    "### this is good one\n",
    "* first \n",
    "* second"
   ]
  },
  {
   "cell_type": "code",
   "execution_count": 62,
   "id": "04dd0799-84e5-412b-8545-bf3f3eae6c3c",
   "metadata": {},
   "outputs": [
    {
     "name": "stdout",
     "output_type": "stream",
     "text": [
      "['trek', 'redline', 'specialised']\n"
     ]
    }
   ],
   "source": [
    "bicycle=['trek', 'redline', 'specialised']\n",
    "print(str(bicycle))"
   ]
  },
  {
   "cell_type": "code",
   "execution_count": 2,
   "id": "db68bdd6-b7cd-4033-9728-198dfa62a5b2",
   "metadata": {},
   "outputs": [
    {
     "name": "stdout",
     "output_type": "stream",
     "text": [
      "['trek', 'trunk']\n"
     ]
    }
   ],
   "source": [
    "bicycle=['trek','trunk']\n",
    "print(bicycle)"
   ]
  },
  {
   "cell_type": "code",
   "execution_count": 4,
   "id": "87db8afe-fde3-43ae-8c2a-d8c463fe6e73",
   "metadata": {},
   "outputs": [
    {
     "name": "stdout",
     "output_type": "stream",
     "text": [
      "hello\n"
     ]
    }
   ],
   "source": [
    "message='hello'\n",
    "print(message)"
   ]
  },
  {
   "cell_type": "code",
   "execution_count": 7,
   "id": "32032dea-0c88-4e12-b80b-ddad2ed0360b",
   "metadata": {},
   "outputs": [
    {
     "name": "stdout",
     "output_type": "stream",
     "text": [
      "happy23rd Birthday\n"
     ]
    }
   ],
   "source": [
    "age=23\n",
    "message='happy'+str(age)+'rd Birthday'\n",
    "print(message)"
   ]
  },
  {
   "cell_type": "code",
   "execution_count": 8,
   "id": "d8d0dea7-c51d-434e-beae-4ebc693e554d",
   "metadata": {},
   "outputs": [
    {
     "data": {
      "text/plain": [
       "1.5"
      ]
     },
     "execution_count": 8,
     "metadata": {},
     "output_type": "execute_result"
    }
   ],
   "source": [
    "3/2"
   ]
  },
  {
   "cell_type": "code",
   "execution_count": 9,
   "id": "c1fba953-5039-4de2-87b6-f795bf8d10d0",
   "metadata": {},
   "outputs": [
    {
     "name": "stdout",
     "output_type": "stream",
     "text": [
      "8\n"
     ]
    }
   ],
   "source": [
    "print(3+5)"
   ]
  },
  {
   "cell_type": "code",
   "execution_count": 10,
   "id": "dcd16b00-0641-4003-92a2-7cb73289e893",
   "metadata": {},
   "outputs": [
    {
     "name": "stdout",
     "output_type": "stream",
     "text": [
      "8\n"
     ]
    }
   ],
   "source": [
    "print(2*4)"
   ]
  },
  {
   "cell_type": "code",
   "execution_count": 11,
   "id": "46eff299-ec3a-4102-a617-d9f6b01c7b61",
   "metadata": {},
   "outputs": [
    {
     "name": "stdout",
     "output_type": "stream",
     "text": [
      "8\n"
     ]
    }
   ],
   "source": [
    "print(17-9)"
   ]
  },
  {
   "cell_type": "code",
   "execution_count": 12,
   "id": "2f46cd1d-9a48-4d65-85a9-d44a6abf7b3b",
   "metadata": {},
   "outputs": [
    {
     "name": "stdout",
     "output_type": "stream",
     "text": [
      "8.0\n"
     ]
    }
   ],
   "source": [
    "print(16/2)"
   ]
  },
  {
   "cell_type": "code",
   "execution_count": 13,
   "id": "1cec6f3a-1d02-497b-860d-15c994d33dd6",
   "metadata": {},
   "outputs": [
    {
     "name": "stdout",
     "output_type": "stream",
     "text": [
      "8\n",
      "8\n",
      "8.0\n",
      "8\n"
     ]
    }
   ],
   "source": [
    "print(4+4)\n",
    "print(2*4)\n",
    "print(32/4)\n",
    "print(17-9)\n",
    "\n"
   ]
  },
  {
   "cell_type": "markdown",
   "id": "9dd516ca-9706-49c4-8041-efbbf183f9df",
   "metadata": {},
   "source": [
    "#向大家问好\n",
    "print(\"hello\")"
   ]
  },
  {
   "cell_type": "markdown",
   "id": "ea74ed3e-39f2-43ab-abb4-34ea57269cf5",
   "metadata": {},
   "source": [
    "favorite_number=34\n",
    "print(favorite_number)\n"
   ]
  },
  {
   "cell_type": "markdown",
   "id": "fecf5981-a245-44cc-b5a6-1f67dc0c33e5",
   "metadata": {},
   "source": [
    "bicycles=['trek','cannondale','redline','specialised']\n",
    "print(bicycles）\n"
   ]
  },
  {
   "cell_type": "code",
   "execution_count": 27,
   "id": "645ca441-9a7d-4b20-8863-ff0daf1eb9b7",
   "metadata": {},
   "outputs": [
    {
     "name": "stdout",
     "output_type": "stream",
     "text": [
      "my bicyle is a Trek.\n"
     ]
    }
   ],
   "source": [
    "bicycles=['trek','cannondale','redline','specialised']\n",
    "message='my bicyle is a '+bicycles[0].title()+'.'\n",
    "print(message)"
   ]
  },
  {
   "cell_type": "markdown",
   "id": "44262172-948d-4389-865d-5b9035a2af0e",
   "metadata": {},
   "source": [
    "names=['吕浩麟','温琦','程颖','谢雪莲']\n",
    "print(names[0])\n",
    "print(names[-1])\n",
    "print(names[-2])\n",
    "print(names[-3])"
   ]
  },
  {
   "cell_type": "code",
   "execution_count": 97,
   "id": "ec6e55cb-b2ca-410e-a705-e3b18de73a55",
   "metadata": {},
   "outputs": [
    {
     "name": "stdout",
     "output_type": "stream",
     "text": [
      "这个世界上最可爱的是温🐷儿。\n",
      "我遇到过的最好的是谢谢\n",
      "毕业后联系的最多的是spy\n",
      "呆在一起最舒服的是cy\n",
      "最暖心的人是朱\n",
      "相处起来最开心的是芹菜\n"
     ]
    }
   ],
   "source": [
    "names=['spy','温🐷儿','cy','谢谢','朱','芹菜']\n",
    "sentence1='这个世界上最可爱的是'+names[1]+'。'\n",
    "sentence2='我遇到过的最好的是'+names[3]\n",
    "sentence3='毕业后联系的最多的是'+names[0]\n",
    "sentence4='呆在一起最舒服的是'+names[2]\n",
    "sentence5='最暖心的人是'+names[-2]\n",
    "sentence6='相处起来最开心的是'+names[-1]\n",
    "print(sentence1)\n",
    "print(sentence2)\n",
    "print(sentence3)\n",
    "print(sentence4)\n",
    "print(sentence5)\n",
    "print(sentence6)"
   ]
  },
  {
   "cell_type": "code",
   "execution_count": 66,
   "id": "20d0518c-edfc-4a2b-b436-7c163ef43ce8",
   "metadata": {},
   "outputs": [
    {
     "name": "stdout",
     "output_type": "stream",
     "text": [
      "世界上对我来说最重要的人是姐姐,妈妈和爸爸\n"
     ]
    }
   ],
   "source": [
    "names='姐姐,妈妈和爸爸'\n",
    "message='世界上对我来说最重要的人是'+str(names)\n",
    "print(message)"
   ]
  },
  {
   "cell_type": "code",
   "execution_count": 69,
   "id": "9a103c79-16cd-42da-b8db-b0f40e331299",
   "metadata": {},
   "outputs": [
    {
     "name": "stdout",
     "output_type": "stream",
     "text": [
      "['honda', 'yamaha', 'suzuki']\n",
      "['honda', 'yamaha', 'suzuki', 'duucati']\n"
     ]
    }
   ],
   "source": [
    "motorcycles=['honda','yamaha','suzuki'] \n",
    "print(motorcycles)\n",
    "\n",
    "motorcycles.append('duucati')\n",
    "print(motorcycles)"
   ]
  },
  {
   "cell_type": "code",
   "execution_count": 70,
   "id": "b23eea15-cd3f-48c0-9bab-d92e93217443",
   "metadata": {},
   "outputs": [
    {
     "name": "stdout",
     "output_type": "stream",
     "text": [
      "['honda', 'yamaha', 'ducati']\n"
     ]
    }
   ],
   "source": [
    "motorcycles=[] \n",
    "motorcycles.append('honda')\n",
    "motorcycles.append('yamaha')\n",
    "motorcycles.append('ducati')\n",
    "print(motorcycles)"
   ]
  },
  {
   "cell_type": "markdown",
   "id": "a2e1b0d7-0a15-4cac-a72e-ef70d2e4f111",
   "metadata": {},
   "source": [
    "motorcycles=['honda','yamaha','suzuki'] \n",
    "motorcycles.insert(1,'ducati')\n",
    "print(motorcycles)"
   ]
  },
  {
   "cell_type": "code",
   "execution_count": 73,
   "id": "1bdb37a7-5295-42b2-b3d9-5b05e786a60d",
   "metadata": {},
   "outputs": [
    {
     "name": "stdout",
     "output_type": "stream",
     "text": [
      "['yamaha', 'suzuki']\n"
     ]
    }
   ],
   "source": [
    "motorcycles=['honda','yamaha','suzuki'] \n",
    "del motorcycles[0]\n",
    "print(motorcycles)"
   ]
  },
  {
   "cell_type": "code",
   "execution_count": 75,
   "id": "3a3d90db-79f4-4136-9327-5a8206fc8fa2",
   "metadata": {},
   "outputs": [
    {
     "name": "stdout",
     "output_type": "stream",
     "text": [
      "['honda', 'yamaha']\n",
      "suzuki\n"
     ]
    }
   ],
   "source": [
    "motorcycles=['honda','yamaha','suzuki'] \n",
    "popped_motorcycles=motorcycles.pop()\n",
    "print(motorcycles)\n",
    "print(popped_motorcycles)"
   ]
  },
  {
   "cell_type": "code",
   "execution_count": 77,
   "id": "4ffd66a6-e880-4156-8a19-6fc70f699014",
   "metadata": {},
   "outputs": [
    {
     "name": "stdout",
     "output_type": "stream",
     "text": [
      "The last motorcycle I owned was a Honda.\n"
     ]
    }
   ],
   "source": [
    "motorcycles=['honda','yamaha','suzuki'] \n",
    "last_owned=motorcycles.pop(0)\n",
    "print('The last motorcycle I owned was a '+last_owned.title()+'.')"
   ]
  },
  {
   "cell_type": "code",
   "execution_count": 78,
   "id": "2b574f12-bd6d-4a4f-aa49-185fa54af77a",
   "metadata": {},
   "outputs": [
    {
     "name": "stdout",
     "output_type": "stream",
     "text": [
      "['yamaha', 'suzuki']\n"
     ]
    }
   ],
   "source": [
    "motorcycles=['honda','yamaha','suzuki'] \n",
    "motorcycles.remove('honda')\n",
    "print(motorcycles)"
   ]
  },
  {
   "cell_type": "code",
   "execution_count": 81,
   "id": "b4aa1c01-d52c-4cc5-84e5-1a19302ca026",
   "metadata": {},
   "outputs": [
    {
     "name": "stdout",
     "output_type": "stream",
     "text": [
      "\n",
      "A Honda is too expensive for me.\n",
      "['yamaha', 'suzuki']\n"
     ]
    }
   ],
   "source": [
    "motorcycles=['honda','yamaha','suzuki'] \n",
    "\n",
    "too_expensive='honda'\n",
    "motorcycles.remove(too_expensive)\n",
    "print(\"\\nA \"+too_expensive.title()+\" is too expensive for me.\")\n",
    "print(motorcycles)"
   ]
  },
  {
   "cell_type": "code",
   "execution_count": 5,
   "id": "f536caf4-355e-4815-9330-d9afc04f3949",
   "metadata": {},
   "outputs": [
    {
     "name": "stdout",
     "output_type": "stream",
     "text": [
      "Somon, Welcome to my birthday party.\n",
      "Emily, Welcome to my birthday party.\n",
      "Cy cannot be here because of her illness.\n",
      "Julia, Welcome to my birthday party.\n",
      "I have found a lager desk.\n",
      "None\n"
     ]
    }
   ],
   "source": [
    "names=['cy','somon','mia','emily']\n",
    "print(names[1].title()+\", Welcome to my birthday party.\")\n",
    "print(names[-1].title()+\", Welcome to my birthday party.\")\n",
    "cannot_be_here=names.pop(0)\n",
    "print(cannot_be_here.title()+\" cannot be here because of her illness.\")\n",
    "names[0]='julia'\n",
    "print(names[0].title()+\", Welcome to my birthday party.\")\n",
    "print(\"I have found a lager desk.\")\n",
    "names.insert(0,'tom')\n",
    "print(names.insert(0,'tom'))\n"
   ]
  },
  {
   "cell_type": "code",
   "execution_count": 16,
   "id": "914991b7-6761-4890-9c6c-964d22b8b74a",
   "metadata": {},
   "outputs": [
    {
     "name": "stdout",
     "output_type": "stream",
     "text": [
      "AliceThat' a great magic show. \n",
      "I can't wait to see your next trick, Alice.\n",
      "\n",
      "DavidThat' a great magic show. \n",
      "I can't wait to see your next trick, David.\n",
      "\n",
      "CarolinaThat' a great magic show. \n",
      "I can't wait to see your next trick, Carolina.\n",
      "\n",
      "Thank you, everyone. That was a great magic show. \n"
     ]
    }
   ],
   "source": [
    "magicians = ['alice', 'david', 'carolina']\n",
    "for magician in magicians:\n",
    "    print(magician.title()+\"That' a great magic show. \")\n",
    "    print(\"I can't wait to see your next trick, \"+magician.title()+\".\\n\")\n",
    "    \n",
    "print(\"Thank you, everyone. That was a great magic show. \")\n"
   ]
  },
  {
   "cell_type": "code",
   "execution_count": 7,
   "id": "e740f6e2-9367-4e52-9abf-f263ff6a71c5",
   "metadata": {},
   "outputs": [
    {
     "name": "stdout",
     "output_type": "stream",
     "text": [
      "['alice', 'david', 'carolina']\n"
     ]
    }
   ],
   "source": [
    "magicians = ['alice', 'david', 'carolina']\n",
    "print(magicians)"
   ]
  },
  {
   "cell_type": "code",
   "execution_count": 19,
   "id": "72dbc249-2a0c-481b-8125-1b1764918995",
   "metadata": {},
   "outputs": [
    {
     "name": "stdout",
     "output_type": "stream",
     "text": [
      "A19, you're my favorite cat. \n",
      "I can't wait to see you, A19.\n",
      "\n",
      "B23, you're my favorite cat. \n",
      "I can't wait to see you, B23.\n",
      "\n",
      "C34, you're my favorite cat. \n",
      "I can't wait to see you, C34.\n",
      "\n",
      "Cats always so cute. \n"
     ]
    }
   ],
   "source": [
    "cats=['a19', 'b23', 'c34']\n",
    "for cat in cats:\n",
    "    print(cat.title()+\", you're my favorite cat. \")\n",
    "    print(\"I can't wait to see you, \"+cat.title()+\".\\n\")\n",
    "    \n",
    "print('Cats always so cute. ')"
   ]
  },
  {
   "cell_type": "code",
   "execution_count": 20,
   "id": "39e4ac4e-39a8-4f8c-9896-8d93af7f2b42",
   "metadata": {},
   "outputs": [
    {
     "name": "stdout",
     "output_type": "stream",
     "text": [
      "1\n",
      "2\n",
      "3\n",
      "4\n"
     ]
    }
   ],
   "source": [
    "for value in range(1,5):\n",
    "    print(value)\n"
   ]
  },
  {
   "cell_type": "code",
   "execution_count": 21,
   "id": "99b18d37-b4a7-4eac-9bee-b738a6c8432d",
   "metadata": {},
   "outputs": [
    {
     "name": "stdout",
     "output_type": "stream",
     "text": [
      "[1, 2, 3, 4, 5]\n"
     ]
    }
   ],
   "source": [
    "numbers=list(range(1,6))\n",
    "print(numbers)"
   ]
  },
  {
   "cell_type": "code",
   "execution_count": 23,
   "id": "37e22061-bff1-4649-a216-b83af56c7916",
   "metadata": {},
   "outputs": [
    {
     "name": "stdout",
     "output_type": "stream",
     "text": [
      "[2, 4, 6, 8, 10]\n"
     ]
    }
   ],
   "source": [
    "even_numbers=list(range(2,11,2))\n",
    "print(even_numbers)"
   ]
  },
  {
   "cell_type": "code",
   "execution_count": 25,
   "id": "c85c2098-9683-4bce-89d4-676f06e9e3bb",
   "metadata": {},
   "outputs": [
    {
     "name": "stdout",
     "output_type": "stream",
     "text": [
      "[1, 4, 9, 16, 25, 36, 49, 64, 81, 100]\n"
     ]
    }
   ],
   "source": [
    "squares=[]\n",
    "for value in range(1,11):\n",
    "    square=value**2\n",
    "    squares.append(square)\n",
    "    \n",
    "print(squares)"
   ]
  },
  {
   "cell_type": "code",
   "execution_count": 27,
   "id": "6650f977-b3b6-409f-887c-336372413fbf",
   "metadata": {},
   "outputs": [
    {
     "name": "stdout",
     "output_type": "stream",
     "text": [
      "[1, 4, 9, 16, 25, 36, 49, 64, 81, 100]\n"
     ]
    }
   ],
   "source": [
    "squares=[]\n",
    "for value in range(1,11):\n",
    "    squares.append(value**2)\n",
    "print(squares)"
   ]
  },
  {
   "cell_type": "code",
   "execution_count": 28,
   "id": "7cf61e0b-7347-465a-856f-755e05c8fdfe",
   "metadata": {},
   "outputs": [
    {
     "ename": "NameError",
     "evalue": "name 'digits' is not defined",
     "output_type": "error",
     "traceback": [
      "\u001b[0;31m---------------------------------------------------------------------------\u001b[0m",
      "\u001b[0;31mNameError\u001b[0m                                 Traceback (most recent call last)",
      "\u001b[0;32m<ipython-input-28-952cfef4142e>\u001b[0m in \u001b[0;36m<module>\u001b[0;34m\u001b[0m\n\u001b[1;32m      1\u001b[0m \u001b[0mdidits\u001b[0m\u001b[0;34m=\u001b[0m\u001b[0;34m[\u001b[0m\u001b[0;36m1\u001b[0m\u001b[0;34m,\u001b[0m\u001b[0;36m2\u001b[0m\u001b[0;34m,\u001b[0m\u001b[0;36m3\u001b[0m\u001b[0;34m,\u001b[0m\u001b[0;36m4\u001b[0m\u001b[0;34m,\u001b[0m\u001b[0;36m5\u001b[0m\u001b[0;34m,\u001b[0m\u001b[0;36m6\u001b[0m\u001b[0;34m,\u001b[0m\u001b[0;36m7\u001b[0m\u001b[0;34m,\u001b[0m\u001b[0;36m8\u001b[0m\u001b[0;34m,\u001b[0m\u001b[0;36m0\u001b[0m\u001b[0;34m]\u001b[0m\u001b[0;34m\u001b[0m\u001b[0;34m\u001b[0m\u001b[0m\n\u001b[0;32m----> 2\u001b[0;31m \u001b[0mmin\u001b[0m\u001b[0;34m(\u001b[0m\u001b[0mdigits\u001b[0m\u001b[0;34m)\u001b[0m\u001b[0;34m\u001b[0m\u001b[0;34m\u001b[0m\u001b[0m\n\u001b[0m",
      "\u001b[0;31mNameError\u001b[0m: name 'digits' is not defined"
     ]
    }
   ],
   "source": [
    "didits=[1,2,3,4,5,6,7,8,0]\n",
    "min(digits)"
   ]
  },
  {
   "cell_type": "code",
   "execution_count": null,
   "id": "c5a7e8a1-9c3b-459e-a19f-16c029c287a1",
   "metadata": {},
   "outputs": [],
   "source": []
  }
 ],
 "metadata": {
  "kernelspec": {
   "display_name": "Python 3",
   "language": "python",
   "name": "python3"
  },
  "language_info": {
   "codemirror_mode": {
    "name": "ipython",
    "version": 3
   },
   "file_extension": ".py",
   "mimetype": "text/x-python",
   "name": "python",
   "nbconvert_exporter": "python",
   "pygments_lexer": "ipython3",
   "version": "3.6.9"
  }
 },
 "nbformat": 4,
 "nbformat_minor": 5
}
