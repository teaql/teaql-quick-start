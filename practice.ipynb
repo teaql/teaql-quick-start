{
 "cells": [
  {
   "cell_type": "markdown",
   "id": "70a8a732-b41b-4dbb-84a8-01fc6a54f05d",
   "metadata": {
    "tags": []
   },
   "source": [
    "print(\"hello\")"
   ]
  },
  {
   "cell_type": "code",
   "execution_count": null,
   "id": "23b0f0c7-b1ed-46b3-9021-414dbb8d080a",
   "metadata": {
    "slideshow": {
     "slide_type": "fragment"
    },
    "tags": [
     "2"
    ]
   },
   "outputs": [],
   "source": [
    "def sum(a,b):\n",
    "    return a+b\n",
    "print(sum(12,33))"
   ]
  },
  {
   "cell_type": "code",
   "execution_count": 9,
   "id": "1025dd11-2644-4ba6-abe3-97dc19a291ac",
   "metadata": {},
   "outputs": [
    {
     "name": "stdout",
     "output_type": "stream",
     "text": [
      "hello\n"
     ]
    }
   ],
   "source": [
    "## use it as good way\n",
    "print(\"hello\")"
   ]
  },
  {
   "cell_type": "markdown",
   "id": "3f6432b9-68fe-4beb-b484-b5f8e591c521",
   "metadata": {},
   "source": [
    "### this is good one\n",
    "* first \n",
    "* second"
   ]
  },
  {
   "cell_type": "raw",
   "id": "796c6cd5-4687-4f01-86b2-cbb598b050b0",
   "metadata": {},
   "source": [
    "this is raw cell"
   ]
  }
 ],
 "metadata": {
  "kernelspec": {
   "display_name": "Python 3",
   "language": "python",
   "name": "python3"
  },
  "language_info": {
   "codemirror_mode": {
    "name": "ipython",
    "version": 3
   },
   "file_extension": ".py",
   "mimetype": "text/x-python",
   "name": "python",
   "nbconvert_exporter": "python",
   "pygments_lexer": "ipython3",
   "version": "3.6.9"
  }
 },
 "nbformat": 4,
 "nbformat_minor": 5
}
