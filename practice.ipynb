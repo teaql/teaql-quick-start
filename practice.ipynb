{
 "cells": [
  {
   "cell_type": "code",
   "execution_count": 11,
   "id": "e222d100-1279-436f-bc05-63179ad47ab4",
   "metadata": {
    "tags": []
   },
   "outputs": [
    {
     "name": "stdout",
     "output_type": "stream",
     "text": [
      "he2222llo\n"
     ]
    }
   ],
   "source": [
    "print(\"he2222llo\")"
   ]
  },
  {
   "cell_type": "code",
   "execution_count": 12,
   "id": "23b0f0c7-b1ed-46b3-9021-414dbb8d080a",
   "metadata": {
    "slideshow": {
     "slide_type": "fragment"
    },
    "tags": [
     "2"
    ]
   },
   "outputs": [
    {
     "name": "stdout",
     "output_type": "stream",
     "text": [
      "45\n"
     ]
    }
   ],
   "source": [
    "def sum(a,b):\n",
    "    return a+b\n",
    "print(sum(12,33))"
   ]
  },
  {
   "cell_type": "code",
   "execution_count": 13,
   "id": "1025dd11-2644-4ba6-abe3-97dc19a291ac",
   "metadata": {},
   "outputs": [
    {
     "name": "stdout",
     "output_type": "stream",
     "text": [
      "hello\n"
     ]
    }
   ],
   "source": [
    "## use it as good way\n",
    "print(\"hello\")"
   ]
  },
  {
   "cell_type": "markdown",
   "id": "3f6432b9-68fe-4beb-b484-b5f8e591c521",
   "metadata": {},
   "source": [
    "### this is good one\n",
    "* first \n",
    "* second"
   ]
  },
  {
   "cell_type": "code",
   "execution_count": null,
   "id": "04dd0799-84e5-412b-8545-bf3f3eae6c3c",
   "metadata": {},
   "outputs": [],
   "source": [
    "\n"
   ]
  },
  {
   "cell_type": "code",
   "execution_count": null,
   "id": "90bf6ff6-261f-4c8c-8060-30cffa2ec8e8",
   "metadata": {},
   "outputs": [],
   "source": []
  }
 ],
 "metadata": {
  "kernelspec": {
   "display_name": "Python 3",
   "language": "python",
   "name": "python3"
  },
  "language_info": {
   "codemirror_mode": {
    "name": "ipython",
    "version": 3
   },
   "file_extension": ".py",
   "mimetype": "text/x-python",
   "name": "python",
   "nbconvert_exporter": "python",
   "pygments_lexer": "ipython3",
   "version": "3.6.9"
  }
 },
 "nbformat": 4,
 "nbformat_minor": 5
}
