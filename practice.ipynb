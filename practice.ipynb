{
 "cells": [
  {
   "cell_type": "code",
   "execution_count": 11,
   "id": "e222d100-1279-436f-bc05-63179ad47ab4",
   "metadata": {
    "tags": []
   },
   "outputs": [
    {
     "name": "stdout",
     "output_type": "stream",
     "text": [
      "he2222llo\n"
     ]
    }
   ],
   "source": [
    "print(\"he2222llo\")"
   ]
  },
  {
   "cell_type": "code",
   "execution_count": 12,
   "id": "23b0f0c7-b1ed-46b3-9021-414dbb8d080a",
   "metadata": {
    "slideshow": {
     "slide_type": "fragment"
    },
    "tags": [
     "2"
    ]
   },
   "outputs": [
    {
     "name": "stdout",
     "output_type": "stream",
     "text": [
      "45\n"
     ]
    }
   ],
   "source": [
    "def sum(a,b):\n",
    "    return a+b\n",
    "print(sum(12,33))"
   ]
  },
  {
   "cell_type": "code",
   "execution_count": 40,
   "id": "04dd0799-84e5-412b-8545-bf3f3eae6c3c",
   "metadata": {},
   "outputs": [
    {
     "name": "stdout",
     "output_type": "stream",
     "text": [
      "['trek', 'redline', 'specialised']\n"
     ]
    }
   ],
   "source": [
    "bicycle=['trek', 'redline', 'specialised']\n",
    "print(bicycle)"
   ]
  },
  {
   "cell_type": "code",
   "execution_count": 46,
   "id": "db68bdd6-b7cd-4033-9728-198dfa62a5b2",
   "metadata": {},
   "outputs": [
    {
     "name": "stdout",
     "output_type": "stream",
     "text": [
      "trunk\n"
     ]
    }
   ],
   "source": [
    "#only get one element in the list. \n",
    "bicycle=['trek','trunk']\n",
    "print(bicycle[-1])"
   ]
  },
  {
   "cell_type": "code",
   "execution_count": 4,
   "id": "87db8afe-fde3-43ae-8c2a-d8c463fe6e73",
   "metadata": {},
   "outputs": [
    {
     "name": "stdout",
     "output_type": "stream",
     "text": [
      "hello\n"
     ]
    }
   ],
   "source": [
    "message='hello'\n",
    "print(message)"
   ]
  },
  {
   "cell_type": "code",
   "execution_count": 43,
   "id": "32032dea-0c88-4e12-b80b-ddad2ed0360b",
   "metadata": {},
   "outputs": [
    {
     "name": "stdout",
     "output_type": "stream",
     "text": [
      "happy 23rd Birthday\n"
     ]
    }
   ],
   "source": [
    "#Page25 avoid the type error. Cause you have input a integer, so Python don't know how to unscramble the value, it knows this \n",
    "#variable may represent the number 23, or the digit 2 and 3. So you should use str.() to tell Python that you want to use the \n",
    "#the \"23\" as a string. \n",
    "age=23\n",
    "message='happy '+str(age)+'rd Birthday'\n",
    "print(message)"
   ]
  },
  {
   "cell_type": "code",
   "execution_count": 8,
   "id": "d8d0dea7-c51d-434e-beae-4ebc693e554d",
   "metadata": {},
   "outputs": [
    {
     "data": {
      "text/plain": [
       "1.5"
      ]
     },
     "execution_count": 8,
     "metadata": {},
     "output_type": "execute_result"
    }
   ],
   "source": [
    "3/2"
   ]
  },
  {
   "cell_type": "code",
   "execution_count": 9,
   "id": "c1fba953-5039-4de2-87b6-f795bf8d10d0",
   "metadata": {},
   "outputs": [
    {
     "name": "stdout",
     "output_type": "stream",
     "text": [
      "8\n"
     ]
    }
   ],
   "source": [
    "print(3+5)"
   ]
  },
  {
   "cell_type": "code",
   "execution_count": 10,
   "id": "dcd16b00-0641-4003-92a2-7cb73289e893",
   "metadata": {},
   "outputs": [
    {
     "name": "stdout",
     "output_type": "stream",
     "text": [
      "8\n"
     ]
    }
   ],
   "source": [
    "print(2*4)"
   ]
  },
  {
   "cell_type": "code",
   "execution_count": 11,
   "id": "46eff299-ec3a-4102-a617-d9f6b01c7b61",
   "metadata": {},
   "outputs": [
    {
     "name": "stdout",
     "output_type": "stream",
     "text": [
      "8\n"
     ]
    }
   ],
   "source": [
    "print(17-9)"
   ]
  },
  {
   "cell_type": "code",
   "execution_count": 12,
   "id": "2f46cd1d-9a48-4d65-85a9-d44a6abf7b3b",
   "metadata": {},
   "outputs": [
    {
     "name": "stdout",
     "output_type": "stream",
     "text": [
      "8.0\n"
     ]
    }
   ],
   "source": [
    "print(16/2)"
   ]
  },
  {
   "cell_type": "code",
   "execution_count": 13,
   "id": "1cec6f3a-1d02-497b-860d-15c994d33dd6",
   "metadata": {},
   "outputs": [
    {
     "name": "stdout",
     "output_type": "stream",
     "text": [
      "8\n",
      "8\n",
      "8.0\n",
      "8\n"
     ]
    }
   ],
   "source": [
    "print(4+4)\n",
    "print(2*4)\n",
    "print(32/4)\n",
    "print(17-9)\n",
    "\n"
   ]
  },
  {
   "cell_type": "markdown",
   "id": "9dd516ca-9706-49c4-8041-efbbf183f9df",
   "metadata": {},
   "source": [
    "#向大家问好\n",
    "print(\"hello\")"
   ]
  },
  {
   "cell_type": "code",
   "execution_count": 51,
   "id": "8dd21dc2-16e1-4c17-b97c-27823a5e53c1",
   "metadata": {},
   "outputs": [
    {
     "name": "stdout",
     "output_type": "stream",
     "text": [
      "34\n"
     ]
    }
   ],
   "source": [
    "#you should'nt use space to name a file in Python. \n",
    "favorite_number=34\n",
    "print(favorite_number)\n"
   ]
  },
  {
   "cell_type": "code",
   "execution_count": 53,
   "id": "a4cbcc34-dfb2-4ef2-aad0-15b9fa6b7a96",
   "metadata": {},
   "outputs": [
    {
     "name": "stdout",
     "output_type": "stream",
     "text": [
      "['trek', 'cannondale', 'redline', 'specialised']\n"
     ]
    }
   ],
   "source": [
    "#Please pay attention to whether there is a space after the bracket. \n",
    "bicycles=['trek','cannondale','redline','specialised']\n",
    "print(bicycles)"
   ]
  },
  {
   "cell_type": "code",
   "execution_count": 47,
   "id": "645ca441-9a7d-4b20-8863-ff0daf1eb9b7",
   "metadata": {},
   "outputs": [
    {
     "name": "stdout",
     "output_type": "stream",
     "text": [
      "my bicyle is a Trek.\n"
     ]
    }
   ],
   "source": [
    "#page32 select the element and capitalise the first letter. \n",
    "bicycles=['trek','cannondale','redline','specialised']\n",
    "message='my bicyle is a '+bicycles[0].title()+'.'\n",
    "print(message)"
   ]
  },
  {
   "cell_type": "code",
   "execution_count": 56,
   "id": "9a103c79-16cd-42da-b8db-b0f40e331299",
   "metadata": {},
   "outputs": [
    {
     "name": "stdout",
     "output_type": "stream",
     "text": [
      "['honda', 'yamaha', 'suzuki']\n",
      "['honda', 'yamaha', 'suzuki', 'duucati']\n"
     ]
    }
   ],
   "source": [
    "#add a element in the list. And you can't appoint the location. \n",
    "motorcycles=['honda','yamaha','suzuki'] \n",
    "print(motorcycles)\n",
    "\n",
    "motorcycles.append('duucati')\n",
    "print(motorcycles)"
   ]
  },
  {
   "cell_type": "code",
   "execution_count": 70,
   "id": "b23eea15-cd3f-48c0-9bab-d92e93217443",
   "metadata": {},
   "outputs": [
    {
     "name": "stdout",
     "output_type": "stream",
     "text": [
      "['honda', 'yamaha', 'ducati']\n"
     ]
    }
   ],
   "source": [
    "motorcycles=[] \n",
    "motorcycles.append('honda')\n",
    "motorcycles.append('yamaha')\n",
    "motorcycles.append('ducati')\n",
    "print(motorcycles)"
   ]
  },
  {
   "cell_type": "code",
   "execution_count": 58,
   "id": "afb7b20f-3c17-4432-bb1f-d9c9dbd676d8",
   "metadata": {},
   "outputs": [
    {
     "name": "stdout",
     "output_type": "stream",
     "text": [
      "['ducati', 'honda', 'yamaha', 'suzuki']\n"
     ]
    }
   ],
   "source": [
    "#Use teh method called insert.(), you can appoint its location. And the number you input is where the element you add should be. \n",
    "motorcycles=['honda','yamaha','suzuki'] \n",
    "motorcycles.insert(0,'ducati')\n",
    "print(motorcycles)"
   ]
  },
  {
   "cell_type": "code",
   "execution_count": 59,
   "id": "1bdb37a7-5295-42b2-b3d9-5b05e786a60d",
   "metadata": {},
   "outputs": [
    {
     "name": "stdout",
     "output_type": "stream",
     "text": [
      "['yamaha', 'suzuki']\n",
      "['yamaha', 'suzuki']\n"
     ]
    }
   ],
   "source": [
    "#Delete a element FOREVER. \n",
    "motorcycles=['honda','yamaha','suzuki'] \n",
    "del motorcycles[0]\n",
    "print(motorcycles)\n",
    "print(motorcycles)"
   ]
  },
  {
   "cell_type": "code",
   "execution_count": 60,
   "id": "3a3d90db-79f4-4136-9327-5a8206fc8fa2",
   "metadata": {},
   "outputs": [
    {
     "name": "stdout",
     "output_type": "stream",
     "text": [
      "['honda', 'yamaha']\n",
      "suzuki\n"
     ]
    }
   ],
   "source": [
    "#Delete one element and you can still use it. If you haven't appoint which one to pop, the last one will be deleted by default. \n",
    "motorcycles=['honda','yamaha','suzuki'] \n",
    "popped_motorcycles=motorcycles.pop()\n",
    "print(motorcycles)\n",
    "print(popped_motorcycles)"
   ]
  },
  {
   "cell_type": "code",
   "execution_count": 77,
   "id": "4ffd66a6-e880-4156-8a19-6fc70f699014",
   "metadata": {},
   "outputs": [
    {
     "name": "stdout",
     "output_type": "stream",
     "text": [
      "The last motorcycle I owned was a Honda.\n"
     ]
    }
   ],
   "source": [
    "#Appoint one's location to delete. \n",
    "motorcycles=['honda','yamaha','suzuki'] \n",
    "last_owned=motorcycles.pop(0)\n",
    "print('The last motorcycle I owned was a '+last_owned.title()+'.')"
   ]
  },
  {
   "cell_type": "code",
   "execution_count": 61,
   "id": "2b574f12-bd6d-4a4f-aa49-185fa54af77a",
   "metadata": {},
   "outputs": [
    {
     "name": "stdout",
     "output_type": "stream",
     "text": [
      "['yamaha', 'suzuki']\n"
     ]
    }
   ],
   "source": [
    "#delete a element by input its value. This fits for the time when you don't know where the element you want to delete is. \n",
    "motorcycles=['honda','yamaha','suzuki'] \n",
    "motorcycles.remove('honda')\n",
    "print(motorcycles)"
   ]
  },
  {
   "cell_type": "code",
   "execution_count": 81,
   "id": "b4aa1c01-d52c-4cc5-84e5-1a19302ca026",
   "metadata": {},
   "outputs": [
    {
     "name": "stdout",
     "output_type": "stream",
     "text": [
      "\n",
      "A Honda is too expensive for me.\n",
      "['yamaha', 'suzuki']\n"
     ]
    }
   ],
   "source": [
    "#Use\"\\nA\" to skip a line.  \n",
    "\n",
    "motorcycles=['honda','yamaha','suzuki'] \n",
    "\n",
    "too_expensive='honda'\n",
    "motorcycles.remove(too_expensive)\n",
    "print(\"\\nA \"+too_expensive.title()+\" is too expensive for me.\")\n",
    "print(motorcycles)"
   ]
  },
  {
   "cell_type": "code",
   "execution_count": null,
   "id": "f536caf4-355e-4815-9330-d9afc04f3949",
   "metadata": {},
   "outputs": [
    {
     "name": "stdout",
     "output_type": "stream",
     "text": [
      "['cy', 'Tom', 'somon', 'mia', 'emily']\n"
     ]
    }
   ],
   "source": [
    "names=['cy','somon','mia','emily']\n",
    "print(names[1].title()+\", Welcome to my birthday party.\")\n",
    "print(names[-1].title()+\", Welcome to my birthday party.\")\n",
    "cannot_be_here=names.pop(0)\n",
    "print(cannot_be_here.title()+\" cannot be here because of her illness.\")\n",
    "names[0]='julia'\n",
    "print(names[0].title()+\", Welcome to my birthday party.\")\n",
    "print(\"I have found a lager desk.\")\n",
    "\n",
    "#OK, The last two lines were wrong, you need to correct the second line into \"print(names)\"\n",
    "#names.insert(0,'tom')\n",
    "#print(names.insert(0,'tom'))\n"
   ]
  },
  {
   "cell_type": "code",
   "execution_count": 16,
   "id": "914991b7-6761-4890-9c6c-964d22b8b74a",
   "metadata": {},
   "outputs": [
    {
     "name": "stdout",
     "output_type": "stream",
     "text": [
      "AliceThat' a great magic show. \n",
      "I can't wait to see your next trick, Alice.\n",
      "\n",
      "DavidThat' a great magic show. \n",
      "I can't wait to see your next trick, David.\n",
      "\n",
      "CarolinaThat' a great magic show. \n",
      "I can't wait to see your next trick, Carolina.\n",
      "\n",
      "Thank you, everyone. That was a great magic show. \n"
     ]
    }
   ],
   "source": [
    "#This grammar will let Python put out every element in the list. \n",
    "magicians = ['alice', 'david', 'carolina']\n",
    "for magician in magicians:\n",
    "    print(magician.title()+\"That' a great magic show. \")\n",
    "    print(\"I can't wait to see your next trick, \"+magician.title()+\".\\n\")\n",
    "    \n",
    "print(\"Thank you, everyone. That was a great magic show. \")\n"
   ]
  },
  {
   "cell_type": "code",
   "execution_count": 7,
   "id": "e740f6e2-9367-4e52-9abf-f263ff6a71c5",
   "metadata": {},
   "outputs": [
    {
     "name": "stdout",
     "output_type": "stream",
     "text": [
      "['alice', 'david', 'carolina']\n"
     ]
    }
   ],
   "source": [
    "magicians = ['alice', 'david', 'carolina']\n",
    "print(magicians)"
   ]
  },
  {
   "cell_type": "code",
   "execution_count": 73,
   "id": "72dbc249-2a0c-481b-8125-1b1764918995",
   "metadata": {},
   "outputs": [
    {
     "name": "stdout",
     "output_type": "stream",
     "text": [
      "A19, you're my favorite cat. \n",
      "I can't wait to see you, A19.\n",
      "\n",
      "B23, you're my favorite cat. \n",
      "I can't wait to see you, B23.\n",
      "\n",
      "C34, you're my favorite cat. \n",
      "I can't wait to see you, C34.\n",
      "\n"
     ]
    }
   ],
   "source": [
    "cats=['a19', 'b23', 'c34']\n",
    "for cat in cats:\n",
    "    print(cat.title()+\", you're my favorite cat. \")\n",
    "    print(\"I can't wait to see you, \"+cat.title()+\".\\n\")\n",
    "    \n",
    "print('Cat is the most cute animal in the world. ')"
   ]
  },
  {
   "cell_type": "code",
   "execution_count": 20,
   "id": "39e4ac4e-39a8-4f8c-9896-8d93af7f2b42",
   "metadata": {},
   "outputs": [
    {
     "name": "stdout",
     "output_type": "stream",
     "text": [
      "1\n",
      "2\n",
      "3\n",
      "4\n"
     ]
    }
   ],
   "source": [
    "#Print a range of number in order. \n",
    "for value in range(1,5):\n",
    "    print(value)\n"
   ]
  },
  {
   "cell_type": "code",
   "execution_count": 74,
   "id": "98d61fe4-0525-4f38-8f7f-292c7480b5d7",
   "metadata": {},
   "outputs": [
    {
     "name": "stdout",
     "output_type": "stream",
     "text": [
      "[1, 2, 3, 4, 5]\n"
     ]
    }
   ],
   "source": [
    "#Turn a string of number into list. \n",
    "numbers=list(range(1,6))\n",
    "print(numbers)"
   ]
  },
  {
   "cell_type": "code",
   "execution_count": 23,
   "id": "37e22061-bff1-4649-a216-b83af56c7916",
   "metadata": {},
   "outputs": [
    {
     "name": "stdout",
     "output_type": "stream",
     "text": [
      "[2, 4, 6, 8, 10]\n"
     ]
    }
   ],
   "source": [
    "#Select all even number in certain range. \n",
    "even_numbers=list(range(2,11,2))\n",
    "print(even_numbers)"
   ]
  },
  {
   "cell_type": "code",
   "execution_count": 25,
   "id": "c85c2098-9683-4bce-89d4-676f06e9e3bb",
   "metadata": {},
   "outputs": [
    {
     "name": "stdout",
     "output_type": "stream",
     "text": [
      "[1, 4, 9, 16, 25, 36, 49, 64, 81, 100]\n"
     ]
    }
   ],
   "source": [
    "#Create a empty list and append elements in it. Make all the numbers in this range square. \n",
    "squares=[]\n",
    "for value in range(1,11):\n",
    "    square=value**2\n",
    "    squares.append(square)\n",
    "    \n",
    "print(squares)"
   ]
  },
  {
   "cell_type": "code",
   "execution_count": 27,
   "id": "6650f977-b3b6-409f-887c-336372413fbf",
   "metadata": {},
   "outputs": [
    {
     "name": "stdout",
     "output_type": "stream",
     "text": [
      "[1, 4, 9, 16, 25, 36, 49, 64, 81, 100]\n"
     ]
    }
   ],
   "source": [
    "#You can square the number directly. \n",
    "squares=[]\n",
    "for value in range(1,11):\n",
    "    squares.append(value**2)\n",
    "print(squares)"
   ]
  },
  {
   "cell_type": "markdown",
   "id": "fb31a215-6497-43ee-9a4e-bf007c1eda22",
   "metadata": {},
   "source": [
    "digits=[1,2,3,4,5,6,7,8,0]\n",
    "min(digits)"
   ]
  },
  {
   "cell_type": "code",
   "execution_count": 75,
   "id": "63cbbc10-fccd-45bf-bfb3-f7b28f1b78d4",
   "metadata": {},
   "outputs": [
    {
     "name": "stdout",
     "output_type": "stream",
     "text": [
      "[1, 4, 9, 16, 25, 36, 49, 64, 81, 100]\n"
     ]
    }
   ],
   "source": [
    "#More directly. \n",
    "squares=[value**2 for value in range(1,11)]\n",
    "print(squares)"
   ]
  },
  {
   "cell_type": "code",
   "execution_count": 76,
   "id": "bc015ec3-fce4-4573-877b-fd49e7393611",
   "metadata": {},
   "outputs": [
    {
     "data": {
      "text/plain": [
       "50005000"
      ]
     },
     "execution_count": 76,
     "metadata": {},
     "output_type": "execute_result"
    }
   ],
   "source": [
    "#Using Terminal to add the consecutive number directly. \n",
    "numbers=list(range(1,10001))\n",
    "sum(numbers)"
   ]
  },
  {
   "cell_type": "code",
   "execution_count": 37,
   "id": "80cbe666-6a9c-4665-bdbb-c2b9741edcb6",
   "metadata": {},
   "outputs": [
    {
     "name": "stdout",
     "output_type": "stream",
     "text": [
      "[1, 3, 5, 7, 9, 11, 13, 15, 17, 19]\n"
     ]
    }
   ],
   "source": [
    "odd_numbers=list(range(1,21,2))\n",
    "print(odd_numbers)"
   ]
  },
  {
   "cell_type": "code",
   "execution_count": null,
   "id": "dcf6e868-e673-4815-ad03-7c34539ca5bc",
   "metadata": {},
   "outputs": [],
   "source": []
  }
 ],
 "metadata": {
  "kernelspec": {
   "display_name": "Python 3",
   "language": "python",
   "name": "python3"
  },
  "language_info": {
   "codemirror_mode": {
    "name": "ipython",
    "version": 3
   },
   "file_extension": ".py",
   "mimetype": "text/x-python",
   "name": "python",
   "nbconvert_exporter": "python",
   "pygments_lexer": "ipython3",
   "version": "3.6.9"
  }
 },
 "nbformat": 4,
 "nbformat_minor": 5
}
