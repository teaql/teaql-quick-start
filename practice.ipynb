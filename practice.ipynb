{
 "cells": [
  {
   "cell_type": "code",
   "execution_count": 11,
   "id": "e222d100-1279-436f-bc05-63179ad47ab4",
   "metadata": {
    "tags": []
   },
   "outputs": [
    {
     "name": "stdout",
     "output_type": "stream",
     "text": [
      "he2222llo\n"
     ]
    }
   ],
   "source": [
    "print(\"he2222llo\")"
   ]
  },
  {
   "cell_type": "code",
   "execution_count": 12,
   "id": "23b0f0c7-b1ed-46b3-9021-414dbb8d080a",
   "metadata": {
    "slideshow": {
     "slide_type": "fragment"
    },
    "tags": [
     "2"
    ]
   },
   "outputs": [
    {
     "name": "stdout",
     "output_type": "stream",
     "text": [
      "45\n"
     ]
    }
   ],
   "source": [
    "def sum(a,b):\n",
    "    return a+b\n",
    "print(sum(12,33))"
   ]
  },
  {
   "cell_type": "code",
   "execution_count": 13,
   "id": "1025dd11-2644-4ba6-abe3-97dc19a291ac",
   "metadata": {},
   "outputs": [
    {
     "name": "stdout",
     "output_type": "stream",
     "text": [
      "hello\n"
     ]
    }
   ],
   "source": [
    "## use it as good way\n",
    "print(\"hello\")"
   ]
  },
  {
   "cell_type": "markdown",
   "id": "3f6432b9-68fe-4beb-b484-b5f8e591c521",
   "metadata": {},
   "source": [
    "### this is good one\n",
    "* first \n",
    "* second"
   ]
  },
  {
   "cell_type": "code",
   "execution_count": 62,
   "id": "04dd0799-84e5-412b-8545-bf3f3eae6c3c",
   "metadata": {},
   "outputs": [
    {
     "name": "stdout",
     "output_type": "stream",
     "text": [
      "['trek', 'redline', 'specialised']\n"
     ]
    }
   ],
   "source": [
    "bicycle=['trek', 'redline', 'specialised']\n",
    "print(str(bicycle))"
   ]
  },
  {
   "cell_type": "code",
   "execution_count": 2,
   "id": "db68bdd6-b7cd-4033-9728-198dfa62a5b2",
   "metadata": {},
   "outputs": [
    {
     "name": "stdout",
     "output_type": "stream",
     "text": [
      "['trek', 'trunk']\n"
     ]
    }
   ],
   "source": [
    "bicycle=['trek','trunk']\n",
    "print(bicycle)"
   ]
  },
  {
   "cell_type": "code",
   "execution_count": 4,
   "id": "87db8afe-fde3-43ae-8c2a-d8c463fe6e73",
   "metadata": {},
   "outputs": [
    {
     "name": "stdout",
     "output_type": "stream",
     "text": [
      "hello\n"
     ]
    }
   ],
   "source": [
    "message='hello'\n",
    "print(message)"
   ]
  },
  {
   "cell_type": "code",
   "execution_count": 7,
   "id": "32032dea-0c88-4e12-b80b-ddad2ed0360b",
   "metadata": {},
   "outputs": [
    {
     "name": "stdout",
     "output_type": "stream",
     "text": [
      "happy23rd Birthday\n"
     ]
    }
   ],
   "source": [
    "age=23\n",
    "message='happy'+str(age)+'rd Birthday'\n",
    "print(message)"
   ]
  },
  {
   "cell_type": "code",
   "execution_count": 8,
   "id": "d8d0dea7-c51d-434e-beae-4ebc693e554d",
   "metadata": {},
   "outputs": [
    {
     "data": {
      "text/plain": [
       "1.5"
      ]
     },
     "execution_count": 8,
     "metadata": {},
     "output_type": "execute_result"
    }
   ],
   "source": [
    "3/2"
   ]
  },
  {
   "cell_type": "code",
   "execution_count": 9,
   "id": "c1fba953-5039-4de2-87b6-f795bf8d10d0",
   "metadata": {},
   "outputs": [
    {
     "name": "stdout",
     "output_type": "stream",
     "text": [
      "8\n"
     ]
    }
   ],
   "source": [
    "print(3+5)"
   ]
  },
  {
   "cell_type": "code",
   "execution_count": 10,
   "id": "dcd16b00-0641-4003-92a2-7cb73289e893",
   "metadata": {},
   "outputs": [
    {
     "name": "stdout",
     "output_type": "stream",
     "text": [
      "8\n"
     ]
    }
   ],
   "source": [
    "print(2*4)"
   ]
  },
  {
   "cell_type": "code",
   "execution_count": 11,
   "id": "46eff299-ec3a-4102-a617-d9f6b01c7b61",
   "metadata": {},
   "outputs": [
    {
     "name": "stdout",
     "output_type": "stream",
     "text": [
      "8\n"
     ]
    }
   ],
   "source": [
    "print(17-9)"
   ]
  },
  {
   "cell_type": "code",
   "execution_count": 12,
   "id": "2f46cd1d-9a48-4d65-85a9-d44a6abf7b3b",
   "metadata": {},
   "outputs": [
    {
     "name": "stdout",
     "output_type": "stream",
     "text": [
      "8.0\n"
     ]
    }
   ],
   "source": [
    "print(16/2)"
   ]
  },
  {
   "cell_type": "code",
   "execution_count": 13,
   "id": "1cec6f3a-1d02-497b-860d-15c994d33dd6",
   "metadata": {},
   "outputs": [
    {
     "name": "stdout",
     "output_type": "stream",
     "text": [
      "8\n",
      "8\n",
      "8.0\n",
      "8\n"
     ]
    }
   ],
   "source": [
    "print(4+4)\n",
    "print(2*4)\n",
    "print(32/4)\n",
    "print(17-9)\n",
    "\n"
   ]
  },
  {
   "cell_type": "markdown",
   "id": "9dd516ca-9706-49c4-8041-efbbf183f9df",
   "metadata": {},
   "source": [
    "#向大家问好\n",
    "print(\"hello\")"
   ]
  },
  {
   "cell_type": "markdown",
   "id": "ea74ed3e-39f2-43ab-abb4-34ea57269cf5",
   "metadata": {},
   "source": [
    "favorite_number=34\n",
    "print(favorite_number)\n"
   ]
  },
  {
   "cell_type": "markdown",
   "id": "fecf5981-a245-44cc-b5a6-1f67dc0c33e5",
   "metadata": {},
   "source": [
    "bicycles=['trek','cannondale','redline','specialised']\n",
    "print(bicycles）\n"
   ]
  },
  {
   "cell_type": "code",
   "execution_count": 27,
   "id": "645ca441-9a7d-4b20-8863-ff0daf1eb9b7",
   "metadata": {},
   "outputs": [
    {
     "name": "stdout",
     "output_type": "stream",
     "text": [
      "my bicyle is a Trek.\n"
     ]
    }
   ],
   "source": [
    "bicycles=['trek','cannondale','redline','specialised']\n",
    "message='my bicyle is a '+bicycles[0].title()+'.'\n",
    "print(message)"
   ]
  },
  {
   "cell_type": "markdown",
   "id": "44262172-948d-4389-865d-5b9035a2af0e",
   "metadata": {},
   "source": [
    "names=['吕浩麟','温琦','程颖','谢雪莲']\n",
    "print(names[0])\n",
    "print(names[-1])\n",
    "print(names[-2])\n",
    "print(names[-3])"
   ]
  },
  {
   "cell_type": "code",
   "execution_count": 50,
   "id": "ec6e55cb-b2ca-410e-a705-e3b18de73a55",
   "metadata": {},
   "outputs": [
    {
     "name": "stdout",
     "output_type": "stream",
     "text": [
      "这个世界上最可爱的是温琦。\n",
      "我遇到过的最好的是谢雪莲\n",
      "毕业后联系的最多的是吕浩麟\n",
      "呆在一起最舒服的是程颖\n",
      "最暖心的人是朱伟俊\n",
      "相处起来最开心的是蔡晴\n"
     ]
    }
   ],
   "source": [
    "names=['吕浩麟','温琦','程颖','谢雪莲','朱伟俊','蔡晴']\n",
    "sentence1='这个世界上最可爱的是'+names[1]+'。'\n",
    "sentence2='我遇到过的最好的是'+names[3]\n",
    "sentence3='毕业后联系的最多的是'+names[0]\n",
    "sentence4='呆在一起最舒服的是'+names[2]\n",
    "sentence5='最暖心的人是'+names[-2]\n",
    "sentence6='相处起来最开心的是'+names[-1]\n",
    "print(sentence1)\n",
    "print(sentence2)\n",
    "print(sentence3)\n",
    "print(sentence4)\n",
    "print(sentence5)\n",
    "print(sentence6)"
   ]
  },
  {
   "cell_type": "code",
   "execution_count": 61,
   "id": "bc083a64-9780-494d-805d-d868eaa67f0c",
   "metadata": {},
   "outputs": [
    {
     "name": "stdout",
     "output_type": "stream",
     "text": [
      "The most cute person in the world is 温琦。\n"
     ]
    }
   ],
   "source": [
    "names=['姐姐','妈妈','爸爸']\n",
    "message='世界上对我来说最重要的人是'+names[0]\n",
    "print(massage)\n"
   ]
  },
  {
   "cell_type": "code",
   "execution_count": null,
   "id": "b266d026-73fa-4df0-acb1-19c56b51b758",
   "metadata": {},
   "outputs": [],
   "source": []
  },
  {
   "cell_type": "code",
   "execution_count": null,
   "id": "9b0d13e1-2f06-4fcb-bd99-9459f227ca97",
   "metadata": {},
   "outputs": [],
   "source": []
  },
  {
   "cell_type": "code",
   "execution_count": null,
   "id": "da00a5fe-d159-41b0-8f9d-9b93f6a59fc4",
   "metadata": {},
   "outputs": [],
   "source": []
  },
  {
   "cell_type": "code",
   "execution_count": null,
   "id": "e494825e-474d-4dea-997d-19602fff88c7",
   "metadata": {},
   "outputs": [],
   "source": []
  },
  {
   "cell_type": "code",
   "execution_count": null,
   "id": "7546159f-dea9-449e-be6f-5adbc1827a06",
   "metadata": {},
   "outputs": [],
   "source": []
  },
  {
   "cell_type": "code",
   "execution_count": null,
   "id": "0821e48a-e18c-41df-a4ad-4da9489914bc",
   "metadata": {},
   "outputs": [],
   "source": []
  }
 ],
 "metadata": {
  "kernelspec": {
   "display_name": "Python 3",
   "language": "python",
   "name": "python3"
  },
  "language_info": {
   "codemirror_mode": {
    "name": "ipython",
    "version": 3
   },
   "file_extension": ".py",
   "mimetype": "text/x-python",
   "name": "python",
   "nbconvert_exporter": "python",
   "pygments_lexer": "ipython3",
   "version": "3.6.9"
  }
 },
 "nbformat": 4,
 "nbformat_minor": 5
}
