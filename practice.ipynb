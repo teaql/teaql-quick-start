{
 "cells": [
  {
   "cell_type": "code",
   "execution_count": 11,
   "id": "e222d100-1279-436f-bc05-63179ad47ab4",
   "metadata": {
    "tags": []
   },
   "outputs": [
    {
     "name": "stdout",
     "output_type": "stream",
     "text": [
      "he2222llo\n"
     ]
    }
   ],
   "source": [
    "print(\"he2222llo\")"
   ]
  },
  {
   "cell_type": "code",
   "execution_count": 12,
   "id": "23b0f0c7-b1ed-46b3-9021-414dbb8d080a",
   "metadata": {
    "slideshow": {
     "slide_type": "fragment"
    },
    "tags": [
     "2"
    ]
   },
   "outputs": [
    {
     "name": "stdout",
     "output_type": "stream",
     "text": [
      "45\n"
     ]
    }
   ],
   "source": [
    "def sum(a,b):\n",
    "    return a+b\n",
    "print(sum(12,33))"
   ]
  },
  {
   "cell_type": "code",
   "execution_count": 13,
   "id": "1025dd11-2644-4ba6-abe3-97dc19a291ac",
   "metadata": {},
   "outputs": [
    {
     "name": "stdout",
     "output_type": "stream",
     "text": [
      "hello\n"
     ]
    }
   ],
   "source": [
    "## use it as good way\n",
    "print(\"hello\")"
   ]
  },
  {
   "cell_type": "markdown",
   "id": "3f6432b9-68fe-4beb-b484-b5f8e591c521",
   "metadata": {},
   "source": [
    "### this is good one\n",
    "* first \n",
    "* second"
   ]
  },
  {
   "cell_type": "code",
   "execution_count": null,
   "id": "04dd0799-84e5-412b-8545-bf3f3eae6c3c",
   "metadata": {},
   "outputs": [],
   "source": [
    "bicycle=['trek', 'redline', 'specialised']\n",
    "print(bicycle)"
   ]
  },
  {
   "cell_type": "code",
   "execution_count": null,
   "id": "90bf6ff6-261f-4c8c-8060-30cffa2ec8e8",
   "metadata": {},
   "outputs": [],
   "source": []
  },
  {
   "cell_type": "code",
   "execution_count": null,
   "id": "b07dc342-c1d1-4606-894d-f58dd26419bb",
   "metadata": {},
   "outputs": [],
   "source": []
  },
  {
   "cell_type": "code",
   "execution_count": null,
   "id": "bf0d9620-d9c3-4465-9157-7386d5563bcc",
   "metadata": {},
   "outputs": [],
   "source": []
  },
  {
   "cell_type": "code",
   "execution_count": 1,
   "id": "b9e47fae-d10d-41f9-87cc-47887b1eb590",
   "metadata": {},
   "outputs": [
    {
     "ename": "NameError",
     "evalue": "name 'hello' is not defined",
     "output_type": "error",
     "traceback": [
      "\u001b[0;31m---------------------------------------------------------------------------\u001b[0m",
      "\u001b[0;31mNameError\u001b[0m                                 Traceback (most recent call last)",
      "\u001b[0;32m<ipython-input-1-1cd80308eb4c>\u001b[0m in \u001b[0;36m<module>\u001b[0;34m\u001b[0m\n\u001b[0;32m----> 1\u001b[0;31m \u001b[0mprint\u001b[0m\u001b[0;34m(\u001b[0m\u001b[0mhello\u001b[0m\u001b[0;34m)\u001b[0m\u001b[0;34m\u001b[0m\u001b[0;34m\u001b[0m\u001b[0m\n\u001b[0m",
      "\u001b[0;31mNameError\u001b[0m: name 'hello' is not defined"
     ]
    }
   ],
   "source": [
    "print(hello)"
   ]
  },
  {
   "cell_type": "code",
   "execution_count": 2,
   "id": "db68bdd6-b7cd-4033-9728-198dfa62a5b2",
   "metadata": {},
   "outputs": [
    {
     "name": "stdout",
     "output_type": "stream",
     "text": [
      "['trek', 'trunk']\n"
     ]
    }
   ],
   "source": [
    "bicycle=['trek','trunk']\n",
    "print(bicycle)"
   ]
  },
  {
   "cell_type": "code",
   "execution_count": 4,
   "id": "87db8afe-fde3-43ae-8c2a-d8c463fe6e73",
   "metadata": {},
   "outputs": [
    {
     "name": "stdout",
     "output_type": "stream",
     "text": [
      "hello\n"
     ]
    }
   ],
   "source": [
    "message='hello'\n",
    "print(message)"
   ]
  },
  {
   "cell_type": "code",
   "execution_count": 7,
   "id": "32032dea-0c88-4e12-b80b-ddad2ed0360b",
   "metadata": {},
   "outputs": [
    {
     "name": "stdout",
     "output_type": "stream",
     "text": [
      "happy23rd Birthday\n"
     ]
    }
   ],
   "source": [
    "age=23\n",
    "message='happy'+str(age)+'rd Birthday'\n",
    "print(message)"
   ]
  },
  {
   "cell_type": "code",
   "execution_count": 8,
   "id": "d8d0dea7-c51d-434e-beae-4ebc693e554d",
   "metadata": {},
   "outputs": [
    {
     "data": {
      "text/plain": [
       "1.5"
      ]
     },
     "execution_count": 8,
     "metadata": {},
     "output_type": "execute_result"
    }
   ],
   "source": [
    "3/2"
   ]
  },
  {
   "cell_type": "code",
   "execution_count": 9,
   "id": "c1fba953-5039-4de2-87b6-f795bf8d10d0",
   "metadata": {},
   "outputs": [
    {
     "name": "stdout",
     "output_type": "stream",
     "text": [
      "8\n"
     ]
    }
   ],
   "source": [
    "print(3+5)"
   ]
  },
  {
   "cell_type": "code",
   "execution_count": 10,
   "id": "dcd16b00-0641-4003-92a2-7cb73289e893",
   "metadata": {},
   "outputs": [
    {
     "name": "stdout",
     "output_type": "stream",
     "text": [
      "8\n"
     ]
    }
   ],
   "source": [
    "print(2*4)"
   ]
  },
  {
   "cell_type": "code",
   "execution_count": 11,
   "id": "46eff299-ec3a-4102-a617-d9f6b01c7b61",
   "metadata": {},
   "outputs": [
    {
     "name": "stdout",
     "output_type": "stream",
     "text": [
      "8\n"
     ]
    }
   ],
   "source": [
    "print(17-9)"
   ]
  },
  {
   "cell_type": "code",
   "execution_count": 12,
   "id": "2f46cd1d-9a48-4d65-85a9-d44a6abf7b3b",
   "metadata": {},
   "outputs": [
    {
     "name": "stdout",
     "output_type": "stream",
     "text": [
      "8.0\n"
     ]
    }
   ],
   "source": [
    "print(16/2)"
   ]
  },
  {
   "cell_type": "code",
   "execution_count": 13,
   "id": "1cec6f3a-1d02-497b-860d-15c994d33dd6",
   "metadata": {},
   "outputs": [
    {
     "name": "stdout",
     "output_type": "stream",
     "text": [
      "8\n",
      "8\n",
      "8.0\n",
      "8\n"
     ]
    }
   ],
   "source": [
    "print(4+4)\n",
    "print(2*4)\n",
    "print(32/4)\n",
    "print(17-9)\n",
    "\n"
   ]
  },
  {
   "cell_type": "code",
   "execution_count": 14,
   "id": "c2d9c477-244a-45be-bfe9-020677e96656",
   "metadata": {},
   "outputs": [
    {
     "name": "stdout",
     "output_type": "stream",
     "text": [
      "hello\n"
     ]
    }
   ],
   "source": [
    "#向大家问好\n",
    "print(\"hello\")"
   ]
  },
  {
   "cell_type": "code",
   "execution_count": 17,
   "id": "6b4274ee-2a5f-4a71-b3ad-680927c4bb60",
   "metadata": {},
   "outputs": [
    {
     "name": "stdout",
     "output_type": "stream",
     "text": [
      "34\n"
     ]
    }
   ],
   "source": [
    "favorite_number=34\n",
    "print(favorite_number)\n"
   ]
  },
  {
   "cell_type": "code",
   "execution_count": null,
   "id": "1f679463-ad0d-44a6-ac93-c67a4c5756b6",
   "metadata": {},
   "outputs": [],
   "source": [
    "bicycles=['trek','cannondable"
   ]
  }
 ],
 "metadata": {
  "kernelspec": {
   "display_name": "Python 3",
   "language": "python",
   "name": "python3"
  },
  "language_info": {
   "codemirror_mode": {
    "name": "ipython",
    "version": 3
   },
   "file_extension": ".py",
   "mimetype": "text/x-python",
   "name": "python",
   "nbconvert_exporter": "python",
   "pygments_lexer": "ipython3",
   "version": "3.6.9"
  }
 },
 "nbformat": 4,
 "nbformat_minor": 5
}
